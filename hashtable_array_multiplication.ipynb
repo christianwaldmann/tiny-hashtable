{
 "cells": [
  {
   "cell_type": "code",
   "execution_count": 17,
   "id": "03452503-57dd-4cb6-a656-675c16ea3fe7",
   "metadata": {
    "tags": []
   },
   "outputs": [],
   "source": [
    "from timeit import default_timer\n",
    "import random\n",
    "random.seed(42)"
   ]
  },
  {
   "cell_type": "markdown",
   "id": "ea4dc201-ea4a-47d7-bb11-7a7fb73b846b",
   "metadata": {},
   "source": [
    "# Hash table using an array and modulo as hash function\n",
    "\n",
    "Task: Create a function `hashtable(entry)` which realizes the following mapping\n",
    "\n",
    "|Input|Output|\n",
    "|-|-|\n",
    "0xa582041|4\n",
    "0xa592041|8\n",
    "0xa5a2041|3\n",
    "0xa582042|1\n",
    "0xa592042|5\n",
    "0xa5a2042|9\n",
    "0xa582043|7\n",
    "0xa592043|2"
   ]
  },
  {
   "cell_type": "markdown",
   "id": "d7320133-5aed-46c9-a046-f0f7f4ac22a1",
   "metadata": {},
   "source": [
    "Function to check if the hash function produces no collisions (== perfect hash function)"
   ]
  },
  {
   "cell_type": "code",
   "execution_count": 2,
   "id": "e1bb67f0-2caf-498c-b9c4-c96868ae4521",
   "metadata": {
    "tags": []
   },
   "outputs": [],
   "source": [
    "def isPerfectHashfunction(hash_function, inputs):\n",
    "    return len({hash_function(x) for x in inputs}) == len(inputs)"
   ]
  },
  {
   "cell_type": "markdown",
   "id": "e333580e-dadb-43de-a7dc-a4a61c09b7de",
   "metadata": {},
   "source": [
    "Find value to use for multiplication"
   ]
  },
  {
   "cell_type": "code",
   "execution_count": 10,
   "id": "353aa61e-0816-4f06-814c-411d201638e1",
   "metadata": {
    "tags": []
   },
   "outputs": [
    {
     "name": "stdout",
     "output_type": "stream",
     "text": [
      "0x5879173f\n"
     ]
    }
   ],
   "source": [
    "inputs = [0xa582041, 0xa592041, 0xa5a2041, 0xa582042, 0xa592042, 0xa5a2042, 0xa582043, 0xa592043]\n",
    "outputs = [4, 8, 3, 1, 5, 9, 7, 2]\n",
    "\n",
    "\n",
    "while True:\n",
    "    c = random.randrange(2**32)\n",
    "    hash_func = lambda x: (x * c) % 2**32 >> 28\n",
    "    if isPerfectHashfunction(hash_func, inputs):\n",
    "        print(hex(c))\n",
    "        break\n",
    "    i += 1"
   ]
  },
  {
   "cell_type": "markdown",
   "id": "3152bc9f-b0dd-4ab3-9cb5-3d3175be0065",
   "metadata": {},
   "source": [
    "Build lookup table"
   ]
  },
  {
   "cell_type": "code",
   "execution_count": 12,
   "id": "7b858851-a619-45e9-98a1-92228836da5f",
   "metadata": {
    "tags": []
   },
   "outputs": [
    {
     "data": {
      "text/plain": [
       "[4, 0, 8, 3, 0, 0, 1, 5, 0, 9, 0, 7, 0, 2]"
      ]
     },
     "execution_count": 12,
     "metadata": {},
     "output_type": "execute_result"
    }
   ],
   "source": [
    "def buildLookupTable(hash_func, inputs, outputs):\n",
    "    lut = [0] * (max(hash_func(x) for x in inputs) + 1)\n",
    "    for inp, out in zip(inputs, outputs):\n",
    "        index = hash_func(inp)\n",
    "        lut[index] = out\n",
    "    return lut\n",
    "\n",
    "\n",
    "lut = buildLookupTable(lambda x: (x * 0x5879173f) % 2**32 >> 28, inputs, outputs)\n",
    "lut"
   ]
  },
  {
   "cell_type": "markdown",
   "id": "8db6f1bb-2df8-4354-b942-fdeaa59585c9",
   "metadata": {},
   "source": [
    "Create the function"
   ]
  },
  {
   "cell_type": "code",
   "execution_count": 13,
   "id": "1735d0be-cf8d-459d-aba1-9b7c87ded813",
   "metadata": {
    "tags": []
   },
   "outputs": [],
   "source": [
    "def hashtable(entry):\n",
    "    return lut[(entry * 0x5879173f) % 2**32 >> 28]"
   ]
  },
  {
   "cell_type": "markdown",
   "id": "86682322-b39e-47e5-9d52-e27cd085d3cc",
   "metadata": {
    "tags": []
   },
   "source": [
    "Test the implemented function"
   ]
  },
  {
   "cell_type": "code",
   "execution_count": 14,
   "id": "9bf2f136-194e-4628-9e15-4fabe0534fbf",
   "metadata": {
    "tags": []
   },
   "outputs": [
    {
     "name": "stdout",
     "output_type": "stream",
     "text": [
      "test successful\n"
     ]
    }
   ],
   "source": [
    "def test(hashtable_func):\n",
    "    inputs = [0xa582041, 0xa592041, 0xa5a2041, 0xa582042, 0xa592042, 0xa5a2042, 0xa582043, 0xa592043]\n",
    "    expected_outputs = [4, 8, 3, 1, 5, 9, 7, 2]\n",
    "    for inp, expected in zip(inputs, expected_outputs):\n",
    "        assert hashtable_func(inp) == expected\n",
    "    print(\"test successful\")\n",
    "        \n",
    "        \n",
    "test(hashtable)"
   ]
  },
  {
   "cell_type": "markdown",
   "id": "0e03032e-d5c6-4583-b839-969d284e9eaa",
   "metadata": {},
   "source": [
    "Measure time"
   ]
  },
  {
   "cell_type": "code",
   "execution_count": 18,
   "id": "a61f92cb-256a-4b47-9a04-6de408708231",
   "metadata": {
    "tags": []
   },
   "outputs": [
    {
     "data": {
      "text/plain": [
       "0.22676179301925004"
      ]
     },
     "execution_count": 18,
     "metadata": {},
     "output_type": "execute_result"
    }
   ],
   "source": [
    "start = default_timer()\n",
    "for _ in range(1_000_000):\n",
    "    hashtable(0xa582041) == 4\n",
    "default_timer() - start"
   ]
  },
  {
   "cell_type": "code",
   "execution_count": null,
   "id": "4b64fffd-38f8-4128-b092-2729ed78ef18",
   "metadata": {},
   "outputs": [],
   "source": []
  }
 ],
 "metadata": {
  "kernelspec": {
   "display_name": "Python 3 (ipykernel)",
   "language": "python",
   "name": "python3"
  },
  "language_info": {
   "codemirror_mode": {
    "name": "ipython",
    "version": 3
   },
   "file_extension": ".py",
   "mimetype": "text/x-python",
   "name": "python",
   "nbconvert_exporter": "python",
   "pygments_lexer": "ipython3",
   "version": "3.10.9"
  }
 },
 "nbformat": 4,
 "nbformat_minor": 5
}
