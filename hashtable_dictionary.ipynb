{
 "cells": [
  {
   "cell_type": "code",
   "execution_count": 23,
   "id": "afb470f2-853a-4225-88fe-1f61272601aa",
   "metadata": {
    "tags": []
   },
   "outputs": [],
   "source": [
    "from timeit import default_timer"
   ]
  },
  {
   "cell_type": "markdown",
   "id": "ea4dc201-ea4a-47d7-bb11-7a7fb73b846b",
   "metadata": {},
   "source": [
    "# Hash table using python dictionary\n",
    "\n",
    "Task: Create a function `hashtable(entry)` which realizes the following mapping\n",
    "\n",
    "|Input|Output|\n",
    "|-|-|\n",
    "0xa582041|4\n",
    "0xa592041|8\n",
    "0xa5a2041|3\n",
    "0xa582042|1\n",
    "0xa592042|5\n",
    "0xa5a2042|9\n",
    "0xa582043|7\n",
    "0xa592043|2"
   ]
  },
  {
   "cell_type": "markdown",
   "id": "cdff797d-d7ac-4051-b6ca-54e07a6d2db3",
   "metadata": {},
   "source": [
    "Build dictionary and create the function"
   ]
  },
  {
   "cell_type": "code",
   "execution_count": 20,
   "id": "1735d0be-cf8d-459d-aba1-9b7c87ded813",
   "metadata": {
    "tags": []
   },
   "outputs": [],
   "source": [
    "lut = {\n",
    "    0xa582041: 4,\n",
    "    0xa592041: 8,\n",
    "    0xa5a2041: 3,\n",
    "    0xa582042: 1,\n",
    "    0xa592042: 5,\n",
    "    0xa5a2042: 9,\n",
    "    0xa582043: 7,\n",
    "    0xa592043: 2,\n",
    "}\n",
    "\n",
    "\n",
    "def hashtable(entry):\n",
    "    return lut[entry]"
   ]
  },
  {
   "cell_type": "markdown",
   "id": "75d580de-c410-42a0-b903-77a0664023c7",
   "metadata": {},
   "source": [
    "Test the implemented function"
   ]
  },
  {
   "cell_type": "code",
   "execution_count": 19,
   "id": "9bf2f136-194e-4628-9e15-4fabe0534fbf",
   "metadata": {
    "tags": []
   },
   "outputs": [
    {
     "name": "stdout",
     "output_type": "stream",
     "text": [
      "test successful\n"
     ]
    }
   ],
   "source": [
    "def test(hashtable_func):\n",
    "    inputs = [0xa582041, 0xa592041, 0xa5a2041, 0xa582042, 0xa592042, 0xa5a2042, 0xa582043, 0xa592043]\n",
    "    expected_outputs = [4, 8, 3, 1, 5, 9, 7, 2]\n",
    "    for inp, expected in zip(inputs, expected_outputs):\n",
    "        assert hashtable_func(inp) == expected\n",
    "    print(\"test successful\")\n",
    "        \n",
    "        \n",
    "test(hashtable)"
   ]
  },
  {
   "cell_type": "markdown",
   "id": "2b64050e-637a-443f-8eb9-aadf88d5430c",
   "metadata": {
    "tags": []
   },
   "source": [
    "Measure time"
   ]
  },
  {
   "cell_type": "code",
   "execution_count": 24,
   "id": "ccbb82ba-1f18-4d60-abd2-1f4a84db3274",
   "metadata": {
    "tags": []
   },
   "outputs": [
    {
     "data": {
      "text/plain": [
       "0.11827966902637854"
      ]
     },
     "execution_count": 24,
     "metadata": {},
     "output_type": "execute_result"
    }
   ],
   "source": [
    "start = default_timer()\n",
    "for _ in range(1_000_000):\n",
    "    hashtable(0xa582041) == 4\n",
    "default_timer() - start"
   ]
  },
  {
   "cell_type": "code",
   "execution_count": null,
   "id": "eb955183-980f-4a2b-9fa9-8128c2d4c2b2",
   "metadata": {},
   "outputs": [],
   "source": []
  }
 ],
 "metadata": {
  "kernelspec": {
   "display_name": "Python 3 (ipykernel)",
   "language": "python",
   "name": "python3"
  },
  "language_info": {
   "codemirror_mode": {
    "name": "ipython",
    "version": 3
   },
   "file_extension": ".py",
   "mimetype": "text/x-python",
   "name": "python",
   "nbconvert_exporter": "python",
   "pygments_lexer": "ipython3",
   "version": "3.10.9"
  }
 },
 "nbformat": 4,
 "nbformat_minor": 5
}
