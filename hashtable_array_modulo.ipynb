{
 "cells": [
  {
   "cell_type": "code",
   "execution_count": 40,
   "id": "cc56342d-4547-4aef-8f2d-0c2a5a42f0eb",
   "metadata": {
    "tags": []
   },
   "outputs": [],
   "source": [
    "from timeit import default_timer"
   ]
  },
  {
   "cell_type": "markdown",
   "id": "ea4dc201-ea4a-47d7-bb11-7a7fb73b846b",
   "metadata": {},
   "source": [
    "# Hash table using an array and modulo as hash function\n",
    "\n",
    "Task: Create a function `hashtable(entry)` which realizes the following mapping\n",
    "\n",
    "|Input|Output|\n",
    "|-|-|\n",
    "0xa582041|4\n",
    "0xa592041|8\n",
    "0xa5a2041|3\n",
    "0xa582042|1\n",
    "0xa592042|5\n",
    "0xa5a2042|9\n",
    "0xa582043|7\n",
    "0xa592043|2"
   ]
  },
  {
   "cell_type": "markdown",
   "id": "d7320133-5aed-46c9-a046-f0f7f4ac22a1",
   "metadata": {},
   "source": [
    "Function to check if the hash function produces no collisions (== perfect hash function)"
   ]
  },
  {
   "cell_type": "code",
   "execution_count": 1,
   "id": "e1bb67f0-2caf-498c-b9c4-c96868ae4521",
   "metadata": {
    "tags": []
   },
   "outputs": [],
   "source": [
    "def isPerfectHashfunction(hash_function, inputs):\n",
    "    return len({hash_function(x) for x in inputs}) == len(inputs)"
   ]
  },
  {
   "cell_type": "markdown",
   "id": "e333580e-dadb-43de-a7dc-a4a61c09b7de",
   "metadata": {},
   "source": [
    "Find value to use for modulo"
   ]
  },
  {
   "cell_type": "code",
   "execution_count": 4,
   "id": "353aa61e-0816-4f06-814c-411d201638e1",
   "metadata": {
    "tags": []
   },
   "outputs": [
    {
     "name": "stdout",
     "output_type": "stream",
     "text": [
      "12\n"
     ]
    }
   ],
   "source": [
    "inputs = [0xa582041, 0xa592041, 0xa5a2041, 0xa582042, 0xa592042, 0xa5a2042, 0xa582043, 0xa592043]\n",
    "outputs = [4, 8, 3, 1, 5, 9, 7, 2]\n",
    "i = 8\n",
    "\n",
    "\n",
    "while True:\n",
    "    hash_func = lambda x: x % i\n",
    "    if isPerfectHashfunction(hash_func, inputs):\n",
    "        print(i)\n",
    "        break\n",
    "    i += 1"
   ]
  },
  {
   "cell_type": "markdown",
   "id": "3152bc9f-b0dd-4ab3-9cb5-3d3175be0065",
   "metadata": {},
   "source": [
    "Build lookup table"
   ]
  },
  {
   "cell_type": "code",
   "execution_count": 28,
   "id": "7b858851-a619-45e9-98a1-92228836da5f",
   "metadata": {
    "tags": []
   },
   "outputs": [
    {
     "data": {
      "text/plain": [
       "[0, 8, 5, 2, 0, 3, 9, 0, 0, 4, 1, 7]"
      ]
     },
     "execution_count": 28,
     "metadata": {},
     "output_type": "execute_result"
    }
   ],
   "source": [
    "def buildLookupTable(hash_func, inputs, outputs):\n",
    "    lut = [0] * (max(hash_func(x) for x in inputs) + 1)\n",
    "    for inp, out in zip(inputs, outputs):\n",
    "        index = hash_func(inp)\n",
    "        lut[index] = out\n",
    "    return lut\n",
    "\n",
    "\n",
    "lut = buildLookupTable(lambda x: x % 12, inputs, outputs)\n",
    "lut"
   ]
  },
  {
   "cell_type": "markdown",
   "id": "8db6f1bb-2df8-4354-b942-fdeaa59585c9",
   "metadata": {},
   "source": [
    "Create the function"
   ]
  },
  {
   "cell_type": "code",
   "execution_count": 29,
   "id": "1735d0be-cf8d-459d-aba1-9b7c87ded813",
   "metadata": {
    "tags": []
   },
   "outputs": [],
   "source": [
    "def hashtable(entry):\n",
    "    return lut[entry % 12]"
   ]
  },
  {
   "cell_type": "markdown",
   "id": "86682322-b39e-47e5-9d52-e27cd085d3cc",
   "metadata": {
    "tags": []
   },
   "source": [
    "Test the implemented function"
   ]
  },
  {
   "cell_type": "code",
   "execution_count": 30,
   "id": "9bf2f136-194e-4628-9e15-4fabe0534fbf",
   "metadata": {
    "tags": []
   },
   "outputs": [
    {
     "name": "stdout",
     "output_type": "stream",
     "text": [
      "test successful\n"
     ]
    }
   ],
   "source": [
    "def test(hashtable_func):\n",
    "    inputs = [0xa582041, 0xa592041, 0xa5a2041, 0xa582042, 0xa592042, 0xa5a2042, 0xa582043, 0xa592043]\n",
    "    expected_outputs = [4, 8, 3, 1, 5, 9, 7, 2]\n",
    "    for inp, expected in zip(inputs, expected_outputs):\n",
    "        assert hashtable_func(inp) == expected\n",
    "    print(\"test successful\")\n",
    "        \n",
    "        \n",
    "test(hashtable)"
   ]
  },
  {
   "cell_type": "markdown",
   "id": "a783f057-df71-4bb3-ab27-622deab771ec",
   "metadata": {},
   "source": [
    "## Attempting to compress the hash table (so it requires less space)\n",
    "Because currently 3 places in the array are unused"
   ]
  },
  {
   "cell_type": "code",
   "execution_count": 27,
   "id": "b6971d46-69e5-4674-ba02-881d4e2c1581",
   "metadata": {
    "tags": []
   },
   "outputs": [
    {
     "name": "stdout",
     "output_type": "stream",
     "text": [
      "12 12 [0, 8, 5, 2, 0, 3, 9, 0, 0, 4, 1, 7]\n",
      "13 11 [0, 0, 0, 4, 1, 7, 8, 5, 2, 3, 9]\n",
      "19 19 [9, 0, 0, 0, 0, 0, 0, 0, 4, 1, 7, 0, 0, 8, 5, 2, 0, 0, 3]\n",
      "20 19 [0, 8, 5, 2, 0, 4, 1, 7, 0, 0, 0, 0, 0, 0, 0, 0, 0, 3, 9]\n",
      "21 18 [0, 0, 0, 0, 0, 3, 9, 0, 0, 0, 8, 5, 2, 0, 0, 4, 1, 7]\n",
      "23 23 [9, 0, 0, 0, 4, 1, 7, 0, 0, 0, 0, 0, 0, 8, 5, 2, 0, 0, 0, 0, 0, 0, 3]\n",
      "24 19 [0, 8, 5, 2, 0, 0, 0, 0, 0, 4, 1, 7, 0, 0, 0, 0, 0, 3, 9]\n",
      "25 24 [0, 0, 0, 0, 0, 0, 0, 3, 9, 0, 4, 1, 7, 0, 0, 0, 0, 0, 0, 0, 0, 8, 5, 2]\n",
      "26 22 [0, 0, 0, 4, 1, 7, 0, 0, 0, 3, 9, 0, 0, 0, 0, 0, 0, 0, 0, 8, 5, 2]\n",
      "27 25 [0, 0, 0, 0, 0, 0, 0, 0, 0, 4, 1, 7, 0, 0, 0, 0, 8, 5, 2, 0, 0, 0, 0, 3, 9]\n",
      "28 20 [0, 4, 1, 7, 0, 3, 9, 0, 0, 0, 0, 0, 0, 0, 0, 0, 0, 8, 5, 2]\n",
      "29 17 [0, 0, 0, 0, 0, 0, 3, 9, 0, 0, 8, 5, 2, 0, 4, 1, 7]\n"
     ]
    }
   ],
   "source": [
    "for i in range(8, 30):\n",
    "    hash_func = lambda x: x % i\n",
    "    if not isPerfectHashfunction(hash_func, inputs):\n",
    "        continue\n",
    "    lut = buildLookupTable(hash_func, inputs, outputs)\n",
    "    print(i, len(lut), lut)"
   ]
  },
  {
   "cell_type": "markdown",
   "id": "5aac6ea8-afac-4b4d-b34b-82a89fbde05f",
   "metadata": {},
   "source": [
    "Result: mod 13 produces also 3 empty places but they are all in the beginning, so they can be eliminated by subtracting 3\n",
    "\n",
    "Build lookup table"
   ]
  },
  {
   "cell_type": "code",
   "execution_count": 36,
   "id": "36b1129d-7c46-4a8b-a573-b7e6b8e4f43c",
   "metadata": {
    "tags": []
   },
   "outputs": [
    {
     "data": {
      "text/plain": [
       "[4, 1, 7, 8, 5, 2, 3, 9]"
      ]
     },
     "execution_count": 36,
     "metadata": {},
     "output_type": "execute_result"
    }
   ],
   "source": [
    "lut = buildLookupTable(lambda x: x % 13 - 3, inputs, outputs)\n",
    "lut"
   ]
  },
  {
   "cell_type": "markdown",
   "id": "747df2e7-c22a-46b6-89f1-77391f3ef928",
   "metadata": {},
   "source": [
    "Create the function"
   ]
  },
  {
   "cell_type": "code",
   "execution_count": 37,
   "id": "17ab3b0b-943b-44d1-b6fc-8ef6a10cdd22",
   "metadata": {
    "tags": []
   },
   "outputs": [],
   "source": [
    "def hashtableCompressed(entry):\n",
    "    return lut[entry % 13 - 3]"
   ]
  },
  {
   "cell_type": "markdown",
   "id": "b0ec16b5-fd47-4203-a7b9-f93533957647",
   "metadata": {},
   "source": [
    "Test the implemented function"
   ]
  },
  {
   "cell_type": "code",
   "execution_count": 38,
   "id": "bbad9d95-651c-44f7-a991-d8f59a44896a",
   "metadata": {
    "tags": []
   },
   "outputs": [
    {
     "name": "stdout",
     "output_type": "stream",
     "text": [
      "test successful\n"
     ]
    }
   ],
   "source": [
    "test(hashtableCompressed)"
   ]
  },
  {
   "cell_type": "markdown",
   "id": "f2dc8f94-b8a7-439e-9d14-d88b5e2bd006",
   "metadata": {},
   "source": [
    "Measure time"
   ]
  },
  {
   "cell_type": "code",
   "execution_count": 41,
   "id": "a0034b98-675b-4b2d-a3d1-9ad545a0f59c",
   "metadata": {
    "tags": []
   },
   "outputs": [
    {
     "data": {
      "text/plain": [
       "0.12916204001521692"
      ]
     },
     "execution_count": 41,
     "metadata": {},
     "output_type": "execute_result"
    }
   ],
   "source": [
    "start = default_timer()\n",
    "for _ in range(1_000_000):\n",
    "    hashtable(0xa582041) == 4\n",
    "default_timer() - start"
   ]
  },
  {
   "cell_type": "code",
   "execution_count": null,
   "id": "e77061bb-4287-4bc5-be3b-15903e5aec10",
   "metadata": {},
   "outputs": [],
   "source": []
  }
 ],
 "metadata": {
  "kernelspec": {
   "display_name": "Python 3 (ipykernel)",
   "language": "python",
   "name": "python3"
  },
  "language_info": {
   "codemirror_mode": {
    "name": "ipython",
    "version": 3
   },
   "file_extension": ".py",
   "mimetype": "text/x-python",
   "name": "python",
   "nbconvert_exporter": "python",
   "pygments_lexer": "ipython3",
   "version": "3.10.9"
  }
 },
 "nbformat": 4,
 "nbformat_minor": 5
}
