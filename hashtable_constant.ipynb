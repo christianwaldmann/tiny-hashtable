{
 "cells": [
  {
   "cell_type": "code",
   "execution_count": 73,
   "id": "03452503-57dd-4cb6-a656-675c16ea3fe7",
   "metadata": {
    "tags": []
   },
   "outputs": [],
   "source": [
    "from timeit import default_timer\n",
    "import random\n",
    "random.seed(42)"
   ]
  },
  {
   "cell_type": "markdown",
   "id": "ea4dc201-ea4a-47d7-bb11-7a7fb73b846b",
   "metadata": {},
   "source": [
    "# Hash table using a constant\n",
    "\n",
    "Task: Create a function `hashtable(entry)` which realizes the following mapping\n",
    "\n",
    "|Input|Output|\n",
    "|-|-|\n",
    "0xa582041|4\n",
    "0xa592041|8\n",
    "0xa5a2041|3\n",
    "0xa582042|1\n",
    "0xa592042|5\n",
    "0xa5a2042|9\n",
    "0xa582043|7\n",
    "0xa592043|2"
   ]
  },
  {
   "cell_type": "markdown",
   "id": "d7320133-5aed-46c9-a046-f0f7f4ac22a1",
   "metadata": {},
   "source": [
    "Function to check if the hash function produces no collisions (== perfect hash function)"
   ]
  },
  {
   "cell_type": "code",
   "execution_count": 13,
   "id": "e1bb67f0-2caf-498c-b9c4-c96868ae4521",
   "metadata": {
    "tags": []
   },
   "outputs": [],
   "source": [
    "def isPerfectHashfunction(hash_function, inputs):\n",
    "    return len({hash_function(x) for x in inputs}) == len(inputs)"
   ]
  },
  {
   "cell_type": "markdown",
   "id": "e333580e-dadb-43de-a7dc-a4a61c09b7de",
   "metadata": {},
   "source": [
    "Find value to use for the constant"
   ]
  },
  {
   "cell_type": "code",
   "execution_count": 69,
   "id": "353aa61e-0816-4f06-814c-411d201638e1",
   "metadata": {
    "tags": []
   },
   "outputs": [
    {
     "name": "stdout",
     "output_type": "stream",
     "text": [
      "0x517f6e5d 0x2f123\n"
     ]
    }
   ],
   "source": [
    "inputs = [0xa582041, 0xa592041, 0xa5a2041, 0xa582042, 0xa592042, 0xa5a2042, 0xa582043, 0xa592043]\n",
    "outputs = [4, 8, 3, 1, 5, 9, 7, 2]\n",
    "\n",
    "\n",
    "def buildConstant(hash_func, inputs, outputs, nr_output_bits=4):\n",
    "    constant = 0\n",
    "    zeros = 0\n",
    "    \n",
    "    for inp, out in zip(inputs, outputs):\n",
    "        shift = hash_func(inp)\n",
    "        \n",
    "        # Detect conflicting bits\n",
    "        if zeros & (out << shift) or constant & (~out % 2**nr_output_bits << shift):\n",
    "            return None\n",
    "        \n",
    "        constant |= out << shift\n",
    "        zeros |= ~out % 2**nr_output_bits << shift\n",
    "    \n",
    "    return constant\n",
    "\n",
    "\n",
    "while True:\n",
    "    c = random.randrange(2**32)\n",
    "    hash_func = lambda x: (x * c) % 2**32 >> 28\n",
    "    constant = buildConstant(hash_func, inputs, outputs)\n",
    "    if constant is not None and constant < 2**32:\n",
    "        print(hex(c), hex(constant))\n",
    "        break"
   ]
  },
  {
   "cell_type": "markdown",
   "id": "8db6f1bb-2df8-4354-b942-fdeaa59585c9",
   "metadata": {},
   "source": [
    "Create the function"
   ]
  },
  {
   "cell_type": "code",
   "execution_count": 70,
   "id": "1735d0be-cf8d-459d-aba1-9b7c87ded813",
   "metadata": {
    "tags": []
   },
   "outputs": [],
   "source": [
    "def hashtable(entry):\n",
    "    shift = (entry * 0x517f6e5d) % 2**32 >> 28\n",
    "    return (0x2f123 >> shift) & 0b1111"
   ]
  },
  {
   "cell_type": "markdown",
   "id": "86682322-b39e-47e5-9d52-e27cd085d3cc",
   "metadata": {
    "tags": []
   },
   "source": [
    "Test the implemented function"
   ]
  },
  {
   "cell_type": "code",
   "execution_count": 72,
   "id": "9bf2f136-194e-4628-9e15-4fabe0534fbf",
   "metadata": {
    "tags": []
   },
   "outputs": [
    {
     "name": "stdout",
     "output_type": "stream",
     "text": [
      "test successful\n"
     ]
    }
   ],
   "source": [
    "def test(hashtable_func):\n",
    "    inputs = [0xa582041, 0xa592041, 0xa5a2041, 0xa582042, 0xa592042, 0xa5a2042, 0xa582043, 0xa592043]\n",
    "    expected_outputs = [4, 8, 3, 1, 5, 9, 7, 2]\n",
    "    for inp, expected in zip(inputs, expected_outputs):\n",
    "        assert hashtable_func(inp) == expected\n",
    "    print(\"test successful\")\n",
    "        \n",
    "        \n",
    "test(hashtable)"
   ]
  },
  {
   "cell_type": "markdown",
   "id": "50fccc4d-cbaf-4bce-bdc6-a7c0a9add9aa",
   "metadata": {},
   "source": [
    "Measure time"
   ]
  },
  {
   "cell_type": "code",
   "execution_count": 76,
   "id": "400471cb-bedb-4615-a551-2e7e81f1f71b",
   "metadata": {
    "tags": []
   },
   "outputs": [
    {
     "data": {
      "text/plain": [
       "0.255373966996558"
      ]
     },
     "execution_count": 76,
     "metadata": {},
     "output_type": "execute_result"
    }
   ],
   "source": [
    "start = default_timer()\n",
    "for _ in range(1_000_000):\n",
    "    hashtable(0xa582041) == 4\n",
    "default_timer() - start"
   ]
  },
  {
   "cell_type": "code",
   "execution_count": null,
   "id": "a5805625-180c-4237-8782-d53a033eedf7",
   "metadata": {},
   "outputs": [],
   "source": []
  }
 ],
 "metadata": {
  "kernelspec": {
   "display_name": "Python 3 (ipykernel)",
   "language": "python",
   "name": "python3"
  },
  "language_info": {
   "codemirror_mode": {
    "name": "ipython",
    "version": 3
   },
   "file_extension": ".py",
   "mimetype": "text/x-python",
   "name": "python",
   "nbconvert_exporter": "python",
   "pygments_lexer": "ipython3",
   "version": "3.10.9"
  }
 },
 "nbformat": 4,
 "nbformat_minor": 5
}
